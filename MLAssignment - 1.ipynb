{
 "cells": [
  {
   "cell_type": "code",
   "execution_count": 1,
   "id": "f7822354-e634-4445-bd56-2f9c8fc5073f",
   "metadata": {},
   "outputs": [
    {
     "name": "stdout",
     "output_type": "stream",
     "text": [
      "Array:\n",
      " [[49 27 27  9]\n",
      " [20 48  7 13]\n",
      " [ 1 46  5 21]\n",
      " [20  4 31 36]\n",
      " [26  8 18 28]]\n"
     ]
    }
   ],
   "source": [
    "#problem1 \n",
    "#create 2d NumPy array\n",
    "import numpy as np\n",
    "\n",
    "arr = np.random.randint(1, 51, size=(5, 4))\n",
    "print(\"Array:\\n\", arr)"
   ]
  },
  {
   "cell_type": "code",
   "execution_count": 2,
   "id": "b1325938-42fc-46e8-a322-aa89912025b7",
   "metadata": {},
   "outputs": [
    {
     "name": "stdout",
     "output_type": "stream",
     "text": [
      "Anti-diagonal: [9, 7, 46, 20]\n"
     ]
    }
   ],
   "source": [
    "#extract anti- diagonal\n",
    "anti_diagonal = [arr[i, -1 - i] for i in range(min(arr.shape))]\n",
    "print(\"Anti-diagonal:\", anti_diagonal)\n"
   ]
  },
  {
   "cell_type": "code",
   "execution_count": 3,
   "id": "3921299e-06ad-4abf-8a25-8abb82997bcd",
   "metadata": {},
   "outputs": [
    {
     "name": "stdout",
     "output_type": "stream",
     "text": [
      "Max in each row: [49 48 46 36 28]\n"
     ]
    }
   ],
   "source": [
    "#max  value in each row\n",
    "row_max = np.max(arr, axis=1)\n",
    "print(\"Max in each row:\", row_max)"
   ]
  },
  {
   "cell_type": "code",
   "execution_count": 4,
   "id": "cfa32be0-dab9-4fef-8922-61105c5b92f9",
   "metadata": {},
   "outputs": [
    {
     "name": "stdout",
     "output_type": "stream",
     "text": [
      "Elements ≤ mean ( 22.2 ): [ 9 20  7 13  1  5 21 20  4  8 18]\n"
     ]
    }
   ],
   "source": [
    "#array containing elements ≤ mean\n",
    "mean_value = np.mean(arr)\n",
    "new_arr = arr[arr <= mean_value]\n",
    "print(\"Elements ≤ mean (\", mean_value, \"):\", new_arr)"
   ]
  },
  {
   "cell_type": "code",
   "execution_count": 5,
   "id": "aa57e997-579c-4df8-b99a-37256f1a6038",
   "metadata": {},
   "outputs": [
    {
     "name": "stdout",
     "output_type": "stream",
     "text": [
      "Boundary traversal: [49, 27, 27, 9, 13, 21, 36, 28, 18, 8, 26, 20, 1, 20]\n"
     ]
    }
   ],
   "source": [
    "#boundary traversal function\n",
    "def numpy_boundary_traversal(matrix):\n",
    "    top = matrix[0, :]\n",
    "    right = matrix[1:-1, -1]\n",
    "    bottom = matrix[-1, ::-1]\n",
    "    left = matrix[-2:0:-1, 0]\n",
    "    return list(top) + list(right) + list(bottom) + list(left)\n",
    "\n",
    "print(\"Boundary traversal:\", numpy_boundary_traversal(arr))\n"
   ]
  },
  {
   "cell_type": "code",
   "execution_count": 6,
   "id": "44165704-e54b-4cd5-a458-a940552f9405",
   "metadata": {},
   "outputs": [
    {
     "name": "stdout",
     "output_type": "stream",
     "text": [
      "Rounded array: [9.13 4.1  3.05 2.09 9.8  5.6  2.17 4.14 2.63 1.32 1.09 9.63 0.99 2.5\n",
      " 4.64 0.42 9.51 7.58 7.86 2.19]\n"
     ]
    }
   ],
   "source": [
    "# problem2\n",
    "#create 1-D NumPy array and round\n",
    "arr = np.random.uniform(0, 10, 20)\n",
    "arr = np.round(arr, 2)\n",
    "print(\"Rounded array:\", arr)\n"
   ]
  },
  {
   "cell_type": "code",
   "execution_count": 7,
   "id": "a7990973-e965-403c-8e05-f5ca27827b67",
   "metadata": {},
   "outputs": [
    {
     "name": "stdout",
     "output_type": "stream",
     "text": [
      "Min: 0.42\n",
      "Max: 9.8\n",
      "Median: 3.5749999999999997\n"
     ]
    }
   ],
   "source": [
    "#min, max, median\n",
    "print(\"Min:\", np.min(arr))\n",
    "print(\"Max:\", np.max(arr))\n",
    "print(\"Median:\", np.median(arr))\n"
   ]
  },
  {
   "cell_type": "code",
   "execution_count": 8,
   "id": "e176f90c-f188-453b-ae16-7876de4375d9",
   "metadata": {},
   "outputs": [
    {
     "name": "stdout",
     "output_type": "stream",
     "text": [
      "Modified array: [ 9.13 16.81  9.3   4.37  9.8   5.6   4.71 17.14  6.92  1.74  1.19  9.63\n",
      "  0.98  6.25 21.53  0.18  9.51  7.58  7.86  4.8 ]\n"
     ]
    }
   ],
   "source": [
    "#Replace all elements less than 5 with their squares\n",
    "arr_modified = np.where(arr < 5, np.round(arr**2, 2), arr)\n",
    "print(\"Modified array:\", arr_modified)\n"
   ]
  },
  {
   "cell_type": "code",
   "execution_count": 9,
   "id": "f1a456b7-f74d-4143-a0f4-83d1a1a527a5",
   "metadata": {},
   "outputs": [
    {
     "name": "stdout",
     "output_type": "stream",
     "text": [
      "Alternating sort: [0.42 9.8  0.99 9.63 1.09 9.51 1.32 9.13 2.09 7.86 2.17 7.58 2.19 5.6\n",
      " 2.5  4.64 2.63 4.14 3.05 4.1 ]\n"
     ]
    }
   ],
   "source": [
    "# Alternate sort function\n",
    "def numpy_alternate_sort(array):\n",
    "    sorted_array = np.sort(array)\n",
    "    result = []\n",
    "    i, j = 0, len(sorted_array) - 1\n",
    "    while i <= j:\n",
    "        result.append(sorted_array[i])\n",
    "        if i != j:\n",
    "            result.append(sorted_array[j])\n",
    "        i += 1\n",
    "        j -= 1\n",
    "    return np.array(result)\n",
    "\n",
    "print(\"Alternating sort:\", numpy_alternate_sort(arr))\n"
   ]
  },
  {
   "cell_type": "code",
   "execution_count": 10,
   "id": "ca3a664b-d1a0-4a7a-85b9-4d5fb3a13d3f",
   "metadata": {},
   "outputs": [],
   "source": [
    "#problem3\n",
    "# create dataframe\n",
    "import pandas as pd\n",
    "import random\n",
    "\n",
    "names = ['Student'+str(i) for i in range(1, 11)]\n",
    "subjects = ['Math', 'Science', 'English', 'History']\n",
    "data = {\n",
    "    'Name': names,\n",
    "    'Subject': random.choices(subjects, k=10),\n",
    "    'Score': np.random.randint(50, 101, size=10),\n",
    "    'Grade': [''] * 10\n",
    "}\n",
    "df = pd.DataFrame(data)\n"
   ]
  },
  {
   "cell_type": "code",
   "execution_count": 11,
   "id": "79597c43-b466-4263-864d-36d2f9ac3200",
   "metadata": {},
   "outputs": [
    {
     "name": "stdout",
     "output_type": "stream",
     "text": [
      "        Name  Subject  Score Grade\n",
      "0   Student1     Math     53     F\n",
      "1   Student2     Math     68     D\n",
      "2   Student3     Math     54     F\n",
      "3   Student4     Math     52     F\n",
      "4   Student5  History     99     A\n",
      "5   Student6  History     50     F\n",
      "6   Student7  History     79     C\n",
      "7   Student8  English     83     B\n",
      "8   Student9     Math     69     D\n",
      "9  Student10  Science     80     B\n"
     ]
    }
   ],
   "source": [
    "#assign grades\n",
    "def assign_grade(score):\n",
    "    if score >= 90:\n",
    "        return 'A'\n",
    "    elif score >= 80:\n",
    "        return 'B'\n",
    "    elif score >= 70:\n",
    "        return 'C'\n",
    "    elif score >= 60:\n",
    "        return 'D'\n",
    "    else:\n",
    "        return 'F'\n",
    "\n",
    "df['Grade'] = df['Score'].apply(assign_grade)\n",
    "print(df)\n"
   ]
  },
  {
   "cell_type": "code",
   "execution_count": 12,
   "id": "975eb0c9-2219-42c3-a527-929b5b959b72",
   "metadata": {},
   "outputs": [
    {
     "name": "stdout",
     "output_type": "stream",
     "text": [
      "        Name  Subject  Score Grade\n",
      "4   Student5  History     99     A\n",
      "7   Student8  English     83     B\n",
      "9  Student10  Science     80     B\n",
      "6   Student7  History     79     C\n",
      "8   Student9     Math     69     D\n",
      "1   Student2     Math     68     D\n",
      "2   Student3     Math     54     F\n",
      "0   Student1     Math     53     F\n",
      "3   Student4     Math     52     F\n",
      "5   Student6  History     50     F\n"
     ]
    }
   ],
   "source": [
    "#sort by score\n",
    "print(df.sort_values(by='Score', ascending=False))\n"
   ]
  },
  {
   "cell_type": "code",
   "execution_count": 13,
   "id": "a9bd5511-bf08-4e5c-91ed-624276b29c10",
   "metadata": {},
   "outputs": [
    {
     "name": "stdout",
     "output_type": "stream",
     "text": [
      "Subject\n",
      "English    83.0\n",
      "History    76.0\n",
      "Math       59.2\n",
      "Science    80.0\n",
      "Name: Score, dtype: float64\n"
     ]
    }
   ],
   "source": [
    "#average per subject\n",
    "print(df.groupby('Subject')['Score'].mean())\n"
   ]
  },
  {
   "cell_type": "code",
   "execution_count": 14,
   "id": "e6660e4b-9451-49ab-ae04-f1882b3a1374",
   "metadata": {},
   "outputs": [
    {
     "name": "stdout",
     "output_type": "stream",
     "text": [
      "        Name  Subject  Score Grade\n",
      "4   Student5  History     99     A\n",
      "7   Student8  English     83     B\n",
      "9  Student10  Science     80     B\n"
     ]
    }
   ],
   "source": [
    "#filter A and B \n",
    "def pandas_filter_pass(dataframe):\n",
    "    return dataframe[dataframe['Grade'].isin(['A', 'B'])]\n",
    "\n",
    "print(pandas_filter_pass(df))\n"
   ]
  },
  {
   "cell_type": "code",
   "execution_count": 15,
   "id": "da956b84-9be4-4e45-a1fe-f57d946e388c",
   "metadata": {},
   "outputs": [],
   "source": [
    "#problem 4\n",
    "#create dataframe\n",
    "positive_reviews = [\"Good movie!\" for _ in range(50)]\n",
    "negative_reviews = [\"Bad movie!\" for _ in range(50)]\n",
    "reviews = positive_reviews + negative_reviews\n",
    "sentiments = ['positive'] * 50 + ['negative'] * 50\n",
    "\n",
    "df = pd.DataFrame({'Review': reviews, 'Sentiment': sentiments})\n"
   ]
  },
  {
   "cell_type": "code",
   "execution_count": 16,
   "id": "8a8b7e91-29e6-4ee9-9249-b83356b683f6",
   "metadata": {},
   "outputs": [],
   "source": [
    "# vectorization and train test split\n",
    "from sklearn.feature_extraction.text import CountVectorizer\n",
    "from sklearn.model_selection import train_test_split\n",
    "\n",
    "vectorizer = CountVectorizer(max_features=500, stop_words='english')\n",
    "X = vectorizer.fit_transform(df['Review'])\n",
    "y = df['Sentiment']\n",
    "\n",
    "X_train, X_test, y_train, y_test = train_test_split(X, y, test_size=0.2, random_state=42)\n"
   ]
  },
  {
   "cell_type": "code",
   "execution_count": 17,
   "id": "5213991c-4640-4e02-b8ad-ee48cb430d15",
   "metadata": {},
   "outputs": [
    {
     "name": "stdout",
     "output_type": "stream",
     "text": [
      "Accuracy: 1.0\n"
     ]
    }
   ],
   "source": [
    "# train naive bayes and test \n",
    "from sklearn.naive_bayes import MultinomialNB\n",
    "from sklearn.metrics import accuracy_score\n",
    "\n",
    "model = MultinomialNB()\n",
    "model.fit(X_train, y_train)\n",
    "y_pred = model.predict(X_test)\n",
    "print(\"Accuracy:\", accuracy_score(y_test, y_pred))\n"
   ]
  },
  {
   "cell_type": "code",
   "execution_count": 18,
   "id": "bb409ee9-feff-47be-af27-e5dc86291153",
   "metadata": {},
   "outputs": [
    {
     "name": "stdout",
     "output_type": "stream",
     "text": [
      "negative\n"
     ]
    }
   ],
   "source": [
    "#predict sentiment function\n",
    "def predict_review_sentiment(model, vectorizer, review):\n",
    "    review_vec = vectorizer.transform([review])\n",
    "    return model.predict(review_vec)[0]\n",
    "\n",
    "print(predict_review_sentiment(model, vectorizer, \"Amazing movie!\"))\n"
   ]
  },
  {
   "cell_type": "code",
   "execution_count": 19,
   "id": "99532957-f1a6-4d8a-ba5d-f544a7b17f35",
   "metadata": {},
   "outputs": [],
   "source": [
    "# problem 5\n",
    "#dataset and tfidf vectorizer\n",
    "feedback = [\"Good product!\" for _ in range(50)] + [\"Bad experience.\" for _ in range(50)]\n",
    "labels = ['good'] * 50 + ['bad'] * 50\n",
    "\n",
    "df = pd.DataFrame({'Feedback': feedback, 'Label': labels})\n",
    "\n",
    "from sklearn.feature_extraction.text import TfidfVectorizer\n",
    "\n",
    "tfidf = TfidfVectorizer(max_features=300, stop_words='english', lowercase=True)\n",
    "X = tfidf.fit_transform(df['Feedback'])\n",
    "y = df['Label']\n"
   ]
  },
  {
   "cell_type": "code",
   "execution_count": 20,
   "id": "2c4e5799-d8ea-4950-8d03-bff8a00b0a64",
   "metadata": {},
   "outputs": [],
   "source": [
    "#train test split\n",
    "X_train, X_test, y_train, y_test = train_test_split(X, y, test_size=0.25, random_state=42)\n"
   ]
  },
  {
   "cell_type": "code",
   "execution_count": 21,
   "id": "8c0ab62f-5037-4102-99d6-8f94d793cda2",
   "metadata": {},
   "outputs": [
    {
     "name": "stdout",
     "output_type": "stream",
     "text": [
      "Precision: 1.0\n",
      "Recall: 1.0\n",
      "F1-score: 1.0\n"
     ]
    }
   ],
   "source": [
    "#logistics regression and metrices\n",
    "from sklearn.linear_model import LogisticRegression\n",
    "from sklearn.metrics import precision_score, recall_score, f1_score\n",
    "\n",
    "clf = LogisticRegression()\n",
    "clf.fit(X_train, y_train)\n",
    "y_pred = clf.predict(X_test)\n",
    "\n",
    "print(\"Precision:\", precision_score(y_test, y_pred, pos_label='good'))\n",
    "print(\"Recall:\", recall_score(y_test, y_pred, pos_label='good'))\n",
    "print(\"F1-score:\", f1_score(y_test, y_pred, pos_label='good'))\n"
   ]
  },
  {
   "cell_type": "code",
   "execution_count": 22,
   "id": "9e992145-6748-49f5-af2a-a0e3e57c9729",
   "metadata": {},
   "outputs": [
    {
     "name": "stdout",
     "output_type": "stream",
     "text": [
      "[[0. 1. 0. 0.]]\n"
     ]
    }
   ],
   "source": [
    "#preprocess and vectorize function\n",
    "def text_preprocess_vectorize(texts, vectorizer):\n",
    "    return vectorizer.transform(texts)\n",
    "\n",
    "print(text_preprocess_vectorize([\"Terrible experience\"], tfidf).toarray())\n"
   ]
  },
  {
   "cell_type": "code",
   "execution_count": null,
   "id": "303e3eba-5df0-4582-baec-837f34c230f2",
   "metadata": {},
   "outputs": [],
   "source": []
  }
 ],
 "metadata": {
  "kernelspec": {
   "display_name": "Python [conda env:base] *",
   "language": "python",
   "name": "conda-base-py"
  },
  "language_info": {
   "codemirror_mode": {
    "name": "ipython",
    "version": 3
   },
   "file_extension": ".py",
   "mimetype": "text/x-python",
   "name": "python",
   "nbconvert_exporter": "python",
   "pygments_lexer": "ipython3",
   "version": "3.12.7"
  }
 },
 "nbformat": 4,
 "nbformat_minor": 5
}
